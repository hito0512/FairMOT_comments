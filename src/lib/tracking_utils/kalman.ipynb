{
 "cells": [
  {
   "cell_type": "code",
   "execution_count": 5,
   "metadata": {},
   "outputs": [
    {
     "name": "stdout",
     "output_type": "stream",
     "text": [
      "[0. 0. 0. 0.]\n",
      "[5.  8.  0.5 6.  0.  0.  0.  0. ]\n",
      "[5.  8.  0.5 6.  0.  0.  0.  0. ]\n"
     ]
    }
   ],
   "source": [
    "import numpy as np\n",
    "from kalman_filter import KalmanFilter\n",
    "k = KalmanFilter()\n",
    "mean_pos = np.array([5,8,0.5,6])\n",
    "mean_vel = np.zeros_like(mean_pos)\n",
    "mean = np.r_[mean_pos, mean_vel]\n",
    "mean1 = np.dot( mean, k._motion_mat.T )\n",
    "\n",
    "print(mean_vel)\n",
    "print(mean)\n",
    "print(mean1)"
   ]
  },
  {
   "cell_type": "code",
   "execution_count": 12,
   "metadata": {},
   "outputs": [
    {
     "name": "stdout",
     "output_type": "stream",
     "text": [
      "[[7 3 5 7 3 6 8 3]]\n"
     ]
    }
   ],
   "source": [
    "\n",
    "measurements = np.array([5,8,6,2,1,0,2,3])\n",
    "mean = np.array([9,8,8,8])\n",
    "a = np.random.randint(10, size=(1,8))\n",
    "print(a)\n",
    "# d = measurements - mean\n",
    "\n"
   ]
  },
  {
   "cell_type": "code",
   "execution_count": 2,
   "metadata": {},
   "outputs": [
    {
     "name": "stderr",
     "output_type": "stream",
     "text": [
      "C:\\Users\\admin\\.conda\\envs\\pytorch17\\lib\\site-packages\\numpy\\_distributor_init.py:30: UserWarning: loaded more than 1 DLL from .libs:\n",
      "C:\\Users\\admin\\.conda\\envs\\pytorch17\\lib\\site-packages\\numpy\\.libs\\libopenblas.GK7GX5KEQ4F6UYO3P26ULGBQYHGQO7J4.gfortran-win_amd64.dll\n",
      "C:\\Users\\admin\\.conda\\envs\\pytorch17\\lib\\site-packages\\numpy\\.libs\\libopenblas.PYQHXLVVQ7VESDPUVUADXEVJOBGHJPAY.gfortran-win_amd64.dll\n",
      "  warnings.warn(\"loaded more than 1 DLL from .libs:\"\n"
     ]
    },
    {
     "name": "stdout",
     "output_type": "stream",
     "text": [
      "tensor([[[[4., 1., 2., 6., 4., 9., 7., 4.],\n",
      "          [7., 2., 9., 3., 7., 7., 0., 0.],\n",
      "          [5., 4., 2., 9., 9., 4., 1., 6.],\n",
      "          [7., 6., 2., 5., 4., 1., 2., 4.],\n",
      "          [0., 8., 9., 5., 3., 8., 2., 5.],\n",
      "          [7., 8., 7., 9., 1., 7., 3., 9.],\n",
      "          [3., 0., 7., 1., 1., 4., 9., 9.],\n",
      "          [2., 5., 9., 3., 7., 6., 3., 8.]]]])\n",
      "tensor([[[[7., 9., 9., 9., 9., 9., 9., 7.],\n",
      "          [7., 9., 9., 9., 9., 9., 9., 7.],\n",
      "          [7., 9., 9., 9., 9., 9., 7., 6.],\n",
      "          [8., 9., 9., 9., 9., 9., 8., 6.],\n",
      "          [8., 9., 9., 9., 9., 8., 9., 9.],\n",
      "          [8., 9., 9., 9., 9., 9., 9., 9.],\n",
      "          [8., 9., 9., 9., 9., 9., 9., 9.],\n",
      "          [5., 9., 9., 9., 7., 9., 9., 9.]]]])\n",
      "tensor([[[[False, False, False, False, False,  True, False, False],\n",
      "          [ True, False,  True, False, False, False, False, False],\n",
      "          [False, False, False,  True,  True, False, False,  True],\n",
      "          [False, False, False, False, False, False, False, False],\n",
      "          [False, False,  True, False, False,  True, False, False],\n",
      "          [False, False, False,  True, False, False, False,  True],\n",
      "          [False, False, False, False, False, False,  True,  True],\n",
      "          [False, False,  True, False,  True, False, False, False]]]])\n",
      "tensor([[[[0., 0., 0., 0., 0., 9., 0., 0.],\n",
      "          [7., 0., 9., 0., 0., 0., 0., 0.],\n",
      "          [0., 0., 0., 9., 9., 0., 0., 6.],\n",
      "          [0., 0., 0., 0., 0., 0., 0., 0.],\n",
      "          [0., 0., 9., 0., 0., 8., 0., 0.],\n",
      "          [0., 0., 0., 9., 0., 0., 0., 9.],\n",
      "          [0., 0., 0., 0., 0., 0., 9., 9.],\n",
      "          [0., 0., 9., 0., 7., 0., 0., 0.]]]])\n"
     ]
    }
   ],
   "source": [
    "import torch.nn.functional as F \n",
    "import torch\n",
    "import torch.nn as nn\n",
    "import numpy as np\n",
    "\n",
    "a = np.array([[5,3,4,6,8],\n",
    "              [1,2,6,1,5],\n",
    "              [8,9,3,0,3]],dtype=np.float32)\n",
    "a = np.random.randint(10,size=(8,8)).astype(np.float32)\n",
    "id_feature = torch.tensor([[a]])\n",
    "print(id_feature)\n",
    "\n",
    "\n",
    "kernel = 3\n",
    "pad = (kernel - 1) // 2\n",
    "hmax = nn.functional.max_pool2d(id_feature, (kernel, kernel), stride=1, padding=pad)\n",
    "keep = (hmax == id_feature)\n",
    "\n",
    "print(hmax)\n",
    "print(keep)\n",
    "print(id_feature * keep)\n",
    "\n",
    "\n",
    "# id_feature = F.normalize(id_feature, dim=1)\n",
    "# print(id_feature)"
   ]
  },
  {
   "cell_type": "code",
   "execution_count": 44,
   "metadata": {},
   "outputs": [
    {
     "name": "stdout",
     "output_type": "stream",
     "text": [
      "x.size(): torch.Size([3, 1])\n",
      "x.size(): torch.Size([3, 1])\n",
      "y.size(): torch.Size([3, 4])\n",
      "tensor([[1.],\n",
      "        [2.],\n",
      "        [3.]])\n",
      "tensor([[1., 1., 1., 1.],\n",
      "        [2., 2., 2., 2.],\n",
      "        [3., 3., 3., 3.]])\n"
     ]
    }
   ],
   "source": [
    "x = torch.Tensor([[1], [2], [3]])\n",
    "print (\"x.size():\",x.size())\n",
    "\n",
    "y=x.expand( 3,4 )\n",
    "\n",
    "print (\"x.size():\",x.size())\n",
    "print (\"y.size():\",y.size())\n",
    "\n",
    "print (x)\n",
    "print (y)\n"
   ]
  },
  {
   "cell_type": "code",
   "execution_count": 75,
   "metadata": {},
   "outputs": [
    {
     "name": "stdout",
     "output_type": "stream",
     "text": [
      "tensor([[[ 0.3317, -0.1337, -1.6714],\n",
      "         [ 0.2618, -0.0225, -0.1697],\n",
      "         [ 1.0436, -0.1827,  0.7695]],\n",
      "\n",
      "        [[ 0.2639,  0.5612, -1.6418],\n",
      "         [-0.3797,  0.9424,  0.5860],\n",
      "         [ 2.4738, -1.0252,  0.4398]],\n",
      "\n",
      "        [[ 0.4882, -1.1817, -0.0117],\n",
      "         [ 1.0972, -1.4396, -0.8440],\n",
      "         [ 1.7309, -1.2185,  0.4858]]])\n",
      "tensor([[1, 2]])\n",
      "tensor([[[1],\n",
      "         [2]]])\n",
      "tensor([[[1, 1, 1],\n",
      "         [2, 2, 2]]])\n",
      "tensor([[[ 0.2618, -0.0225, -0.1697],\n",
      "         [ 1.0436, -0.1827,  0.7695]]])\n"
     ]
    }
   ],
   "source": [
    "feat = torch.randn([3,3,3])\n",
    "print(feat)\n",
    "dim  = feat.size(2)\n",
    "ind = torch.Tensor([[1,2]]).to(torch.int64)\n",
    "print(ind)\n",
    "ind  = ind.unsqueeze(2)\n",
    "print(ind)\n",
    "ind = ind.expand(ind.size(0), ind.size(1), dim)\n",
    "print(ind)\n",
    "feat = feat.gather(1, ind)\n",
    "\n",
    "print(feat)"
   ]
  },
  {
   "cell_type": "code",
   "execution_count": 80,
   "metadata": {},
   "outputs": [
    {
     "name": "stdout",
     "output_type": "stream",
     "text": [
      "[]\n"
     ]
    }
   ],
   "source": [
    "c = np.empty((0, 5), dtype=int)\n",
    "print(c)"
   ]
  },
  {
   "cell_type": "code",
   "execution_count": 86,
   "metadata": {},
   "outputs": [
    {
     "name": "stdout",
     "output_type": "stream",
     "text": [
      "(array([0, 1, 1], dtype=int64), array([1, 1, 2], dtype=int64))\n"
     ]
    }
   ],
   "source": [
    "a = [[1,-2,0,3],[6,-2,-4,0]]\n",
    "x = np.array(a)\n",
    "unmatched_a = np.where(x < 0)\n",
    "print(unmatched_a)"
   ]
  },
  {
   "cell_type": "code",
   "execution_count": 5,
   "metadata": {},
   "outputs": [
    {
     "name": "stdout",
     "output_type": "stream",
     "text": [
      "[2 3 1]\n"
     ]
    }
   ],
   "source": [
    "a = np.array([2,3,1])\n",
    "print(a)"
   ]
  },
  {
   "cell_type": "code",
   "execution_count": 16,
   "metadata": {},
   "outputs": [
    {
     "name": "stdout",
     "output_type": "stream",
     "text": [
      "deque([2, 3, 4], maxlen=3)\n"
     ]
    }
   ],
   "source": [
    "from collections import deque\n",
    "\n",
    "f = deque([],maxlen=3)\n",
    "f.append(1)\n",
    "f.append(2)\n",
    "f.append(3)\n",
    "f.append(4)\n",
    "print(f)"
   ]
  },
  {
   "cell_type": "code",
   "execution_count": 17,
   "metadata": {},
   "outputs": [],
   "source": [
    "from scipy.spatial.distance import cdist"
   ]
  },
  {
   "cell_type": "code",
   "execution_count": 22,
   "metadata": {},
   "outputs": [
    {
     "name": "stdout",
     "output_type": "stream",
     "text": [
      "[[1 1]\n",
      " [1 2]]\n",
      "[[2 1]\n",
      " [2 2]\n",
      " [2 3]]\n",
      "[[5.13167019e-02 2.22044605e-16 1.94193243e-02]\n",
      " [2.00000000e-01 5.13167019e-02 7.72212329e-03]]\n",
      "[[5.13167019e-02 2.22044605e-16 1.94193243e-02]\n",
      " [2.00000000e-01 5.13167019e-02 7.72212329e-03]]\n"
     ]
    }
   ],
   "source": [
    "track_features=np.array([[1,1],[1,2]])\n",
    "det_features=np.array([[2,1],[2,2],[2,3]])\n",
    "metric='cosine'\n",
    "d = cdist(track_features, det_features, metric)\n",
    "m = np.maximum(0.0,d)\n",
    "print(track_features)\n",
    "print(det_features)\n",
    "print(d)\n",
    "print(m)\n",
    "# "
   ]
  },
  {
   "cell_type": "code",
   "execution_count": null,
   "metadata": {},
   "outputs": [],
   "source": []
  }
 ],
 "metadata": {
  "interpreter": {
   "hash": "b61cd6d563931e34d07eea99c16cd146b7b9aa0f0106b66c7fe7eca355e478b1"
  },
  "kernelspec": {
   "display_name": "Python 3.8.10 64-bit ('pytorch17': conda)",
   "language": "python",
   "name": "python3"
  },
  "language_info": {
   "codemirror_mode": {
    "name": "ipython",
    "version": 3
   },
   "file_extension": ".py",
   "mimetype": "text/x-python",
   "name": "python",
   "nbconvert_exporter": "python",
   "pygments_lexer": "ipython3",
   "version": "3.8.10"
  },
  "orig_nbformat": 4
 },
 "nbformat": 4,
 "nbformat_minor": 2
}
